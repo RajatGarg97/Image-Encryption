{
 "cells": [
  {
   "cell_type": "code",
   "execution_count": 1,
   "metadata": {},
   "outputs": [],
   "source": [
    "# Importing Libraries\n",
    "import pandas as pd"
   ]
  },
  {
   "cell_type": "code",
   "execution_count": 15,
   "metadata": {},
   "outputs": [],
   "source": [
    "#!ls\n",
    "file = pd.read_csv('Sampletext', header=None, delimiter = '\\t')"
   ]
  },
  {
   "cell_type": "code",
   "execution_count": 17,
   "metadata": {},
   "outputs": [
    {
     "data": {
      "text/html": [
       "<div>\n",
       "<style scoped>\n",
       "    .dataframe tbody tr th:only-of-type {\n",
       "        vertical-align: middle;\n",
       "    }\n",
       "\n",
       "    .dataframe tbody tr th {\n",
       "        vertical-align: top;\n",
       "    }\n",
       "\n",
       "    .dataframe thead th {\n",
       "        text-align: right;\n",
       "    }\n",
       "</style>\n",
       "<table border=\"1\" class=\"dataframe\">\n",
       "  <thead>\n",
       "    <tr style=\"text-align: right;\">\n",
       "      <th></th>\n",
       "      <th>0</th>\n",
       "    </tr>\n",
       "  </thead>\n",
       "  <tbody>\n",
       "    <tr>\n",
       "      <th>0</th>\n",
       "      <td>Lorem ipsum dolor sit amet, consectetur adipis...</td>\n",
       "    </tr>\n",
       "    <tr>\n",
       "      <th>1</th>\n",
       "      <td>Aliquam erat volutpat. Sed lorem sapien, ullam...</td>\n",
       "    </tr>\n",
       "    <tr>\n",
       "      <th>2</th>\n",
       "      <td>Nullam neque velit, cursus nec eros id, conval...</td>\n",
       "    </tr>\n",
       "    <tr>\n",
       "      <th>3</th>\n",
       "      <td>Maecenas malesuada elementum augue consequat p...</td>\n",
       "    </tr>\n",
       "    <tr>\n",
       "      <th>4</th>\n",
       "      <td>Nunc dictum accumsan magna, eu convallis turpi...</td>\n",
       "    </tr>\n",
       "    <tr>\n",
       "      <th>5</th>\n",
       "      <td>Nam vitae lectus nec diam fringilla euismod. M...</td>\n",
       "    </tr>\n",
       "    <tr>\n",
       "      <th>6</th>\n",
       "      <td>Ut consectetur, nisl ut consequat dictum, orci...</td>\n",
       "    </tr>\n",
       "    <tr>\n",
       "      <th>7</th>\n",
       "      <td>Etiam sed erat convallis, feugiat justo vel, s...</td>\n",
       "    </tr>\n",
       "    <tr>\n",
       "      <th>8</th>\n",
       "      <td>Vestibulum dapibus dapibus pulvinar. Cras iacu...</td>\n",
       "    </tr>\n",
       "    <tr>\n",
       "      <th>9</th>\n",
       "      <td>Suspendisse potenti. Donec sollicitudin mauris...</td>\n",
       "    </tr>\n",
       "    <tr>\n",
       "      <th>10</th>\n",
       "      <td>Nunc aliquet hendrerit ante suscipit luctus. S...</td>\n",
       "    </tr>\n",
       "    <tr>\n",
       "      <th>11</th>\n",
       "      <td>Aenean vitae malesuada dolor. Nulla tincidunt ...</td>\n",
       "    </tr>\n",
       "    <tr>\n",
       "      <th>12</th>\n",
       "      <td>Phasellus a purus sit amet nibh euismod varius...</td>\n",
       "    </tr>\n",
       "    <tr>\n",
       "      <th>13</th>\n",
       "      <td>Fusce luctus eleifend lectus eget eleifend. Na...</td>\n",
       "    </tr>\n",
       "  </tbody>\n",
       "</table>\n",
       "</div>"
      ],
      "text/plain": [
       "                                                    0\n",
       "0   Lorem ipsum dolor sit amet, consectetur adipis...\n",
       "1   Aliquam erat volutpat. Sed lorem sapien, ullam...\n",
       "2   Nullam neque velit, cursus nec eros id, conval...\n",
       "3   Maecenas malesuada elementum augue consequat p...\n",
       "4   Nunc dictum accumsan magna, eu convallis turpi...\n",
       "5   Nam vitae lectus nec diam fringilla euismod. M...\n",
       "6   Ut consectetur, nisl ut consequat dictum, orci...\n",
       "7   Etiam sed erat convallis, feugiat justo vel, s...\n",
       "8   Vestibulum dapibus dapibus pulvinar. Cras iacu...\n",
       "9   Suspendisse potenti. Donec sollicitudin mauris...\n",
       "10  Nunc aliquet hendrerit ante suscipit luctus. S...\n",
       "11  Aenean vitae malesuada dolor. Nulla tincidunt ...\n",
       "12  Phasellus a purus sit amet nibh euismod varius...\n",
       "13  Fusce luctus eleifend lectus eget eleifend. Na..."
      ]
     },
     "execution_count": 17,
     "metadata": {},
     "output_type": "execute_result"
    }
   ],
   "source": [
    "file"
   ]
  },
  {
   "cell_type": "code",
   "execution_count": null,
   "metadata": {},
   "outputs": [],
   "source": []
  }
 ],
 "metadata": {
  "kernelspec": {
   "display_name": "Python 3",
   "language": "python",
   "name": "python3"
  },
  "language_info": {
   "codemirror_mode": {
    "name": "ipython",
    "version": 3
   },
   "file_extension": ".py",
   "mimetype": "text/x-python",
   "name": "python",
   "nbconvert_exporter": "python",
   "pygments_lexer": "ipython3",
   "version": "3.6.8"
  }
 },
 "nbformat": 4,
 "nbformat_minor": 2
}
